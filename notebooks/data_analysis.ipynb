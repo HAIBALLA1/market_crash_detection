{
 "cells": [
  {
   "cell_type": "code",
   "execution_count": 43,
   "id": "ea80c694-2b97-4cb0-8e72-6f3a7b57bdc4",
   "metadata": {},
   "outputs": [],
   "source": [
    "import pandas as pd\n",
    "import numpy as np\n",
    "import matplotlib.pyplot as plt"
   ]
  },
  {
   "cell_type": "markdown",
   "id": "2260f04c-6e04-4976-a391-6e829d9e302e",
   "metadata": {},
   "source": [
    "# Data preperation"
   ]
  },
  {
   "cell_type": "code",
   "execution_count": 64,
   "id": "b6639336-fd72-45e2-a0ba-ce4eb11a31e8",
   "metadata": {},
   "outputs": [
    {
     "name": "stdout",
     "output_type": "stream",
     "text": [
      "Index(['Y', 'Data', 'DXY', 'JPY', 'VIX', 'GTDEM30Y', 'GTDEM10Y', 'GTDEM2Y',\n",
      "       'EONIA', 'GTITL30YR', 'GTITL10YR', 'GTITL2YR', 'GTJPY30YR', 'GTJPY10YR',\n",
      "       'GTJPY2YR', 'GTGBP20Y', 'LUMSTRUU', 'LMBITR', 'LUACTRUU', 'LF98TRUU',\n",
      "       'LG30TRUU', 'LP01TREU', 'EMUSTRUU', 'LF94TRUU', 'MXUS', 'MXEU', 'MXJP',\n",
      "       'MXRU', 'MXIN', 'MXCN'],\n",
      "      dtype='object')\n"
     ]
    }
   ],
   "source": [
    "dataset = pd.read_excel('../data/FinancialMarketData.xlsx', sheet_name='EWS' )\n",
    "#print(dataset)\n",
    "#print(dataset.isnull().sum()) \n",
    "#print(dataset.describe()) \n",
    "correlation_matrix = dataset.corr()\n",
    "#dataset.shape\n",
    "#dataset.columns\n",
    "#dataset.hist(bins=60 , figsize=(40,40))\n",
    "\n",
    "low_cor_cols=correlation_matrix['Y'][abs(correlation_matrix['Y'])<0.1].index\n",
    "dataset_cleaned=dataset.drop(columns=low_cor_cols)\n",
    "dataset_cleaned.shape\n",
    "print(dataset_cleaned.columns)"
   ]
  },
  {
   "cell_type": "code",
   "execution_count": null,
   "id": "e3c08c0f-1031-4212-8e0a-4565d8248c1b",
   "metadata": {},
   "outputs": [],
   "source": []
  }
 ],
 "metadata": {
  "kernelspec": {
   "display_name": "Python 3 (ipykernel)",
   "language": "python",
   "name": "python3"
  },
  "language_info": {
   "codemirror_mode": {
    "name": "ipython",
    "version": 3
   },
   "file_extension": ".py",
   "mimetype": "text/x-python",
   "name": "python",
   "nbconvert_exporter": "python",
   "pygments_lexer": "ipython3",
   "version": "3.11.2"
  }
 },
 "nbformat": 4,
 "nbformat_minor": 5
}
