{
 "cells": [
  {
   "cell_type": "markdown",
   "id": "7337ad44-cb30-46bd-b949-9ada8203238d",
   "metadata": {},
   "source": [
    "# Introduction"
   ]
  },
  {
   "cell_type": "markdown",
   "id": "731fd9cd-3de1-4417-a0e2-e29bdc82d7f1",
   "metadata": {},
   "source": [
    "This notebook aims to detect anomalies in financial markets using the Isolation Forest model."
   ]
  },
  {
   "cell_type": "code",
   "execution_count": 139,
   "id": "ea80c694-2b97-4cb0-8e72-6f3a7b57bdc4",
   "metadata": {},
   "outputs": [],
   "source": [
    "import pandas as pd\n",
    "import numpy as np\n",
    "import matplotlib.pyplot as plt\n",
    "from sklearn.ensemble import IsolationForest\n",
    "from xgboost import XGBClassifier\n",
    "from sklearn.model_selection import train_test_split\n",
    "from sklearn.metrics import silhouette_score\n",
    "from sklearn.neighbors import LocalOutlierFactor\n",
    "from sklearn.metrics import classification_report, confusion_matrix"
   ]
  },
  {
   "cell_type": "markdown",
   "id": "2260f04c-6e04-4976-a391-6e829d9e302e",
   "metadata": {},
   "source": [
    "# Data Cleaning"
   ]
  },
  {
   "cell_type": "code",
   "execution_count": 175,
   "id": "b6639336-fd72-45e2-a0ba-ce4eb11a31e8",
   "metadata": {},
   "outputs": [],
   "source": [
    "dataset = pd.read_excel('../data/FinancialMarketData.xlsx', sheet_name='EWS' )\n",
    "# Moyennes mobiles\n",
    "dataset['VIX_moving_average'] = dataset['VIX'].rolling(window=7).mean()\n",
    "dataset['BDIY_moving_average'] = dataset['BDIY'].rolling(window=7).mean()\n",
    "\n",
    "# Ratios\n",
    "dataset['DXY_to_VIX'] = dataset['DXY'] / dataset['VIX']\n",
    "\n",
    "# Différences\n",
    "dataset['VIX_diff'] = dataset['VIX'].diff()\n",
    "\n",
    "correlation_matrix = dataset.corr()\n",
    "\n",
    "\n",
    "low_cor_cols=correlation_matrix['Y'][abs(correlation_matrix['Y'])<0.1].index\n",
    "\n",
    "#cleaning data\n",
    "dataset_cleaned=dataset.drop(columns=low_cor_cols)\n",
    "\n",
    "\n",
    "dataset['Année'] = dataset['Data'].dt.year\n",
    "dataset['Mois'] = dataset['Data'].dt.month\n",
    "dataset['Jour'] = dataset['Data'].dt.day\n",
    "dataset['Jour_semaine'] = dataset['Data'].dt.dayofweek\n",
    "dataset['Est_weekend'] = dataset['Jour_semaine'].apply(lambda x: 1 if x >= 5 else 0)\n",
    "\n",
    "if 'Data' in dataset_cleaned.columns:\n",
    "    dataset_cleaned = dataset_cleaned.drop(columns=['Data'])\n"
   ]
  },
  {
   "cell_type": "markdown",
   "id": "0ffb2896-8ee3-4591-b899-26065f48de9c",
   "metadata": {},
   "source": [
    "# Data Preperation"
   ]
  },
  {
   "cell_type": "code",
   "execution_count": 176,
   "id": "aab17815-d141-472d-b4c6-fb0328fd221d",
   "metadata": {},
   "outputs": [],
   "source": [
    "X= dataset_cleaned.drop(columns=['Y'])\n",
    "y=dataset_cleaned['Y']\n",
    "\n",
    "# Split the data\n",
    "X_train, X_test, y_train, y_test = train_test_split(X, y, test_size=0.3, random_state=42)\n"
   ]
  },
  {
   "cell_type": "markdown",
   "id": "b99d7d6e-9b30-4ccf-855c-48e94f6e106f",
   "metadata": {},
   "source": [
    "# Model Training"
   ]
  },
  {
   "cell_type": "code",
   "execution_count": 192,
   "id": "f919217c-6c7b-4014-9c7c-ef3f64cf0094",
   "metadata": {},
   "outputs": [
    {
     "name": "stdout",
     "output_type": "stream",
     "text": [
      "              precision    recall  f1-score   support\n",
      "\n",
      "           0       0.91      0.96      0.93       266\n",
      "           1       0.79      0.62      0.69        68\n",
      "\n",
      "    accuracy                           0.89       334\n",
      "   macro avg       0.85      0.79      0.81       334\n",
      "weighted avg       0.88      0.89      0.88       334\n",
      "\n"
     ]
    }
   ],
   "source": [
    "model = XGBClassifier(n_estimators=50, learning_rate=0.21, random_state=55)\n",
    "model.fit(X_train, y_train)\n",
    "y_pred = model.predict(X_test)\n",
    "\n",
    "print(classification_report(y_test, y_pred))"
   ]
  }
 ],
 "metadata": {
  "kernelspec": {
   "display_name": "Python 3 (ipykernel)",
   "language": "python",
   "name": "python3"
  },
  "language_info": {
   "codemirror_mode": {
    "name": "ipython",
    "version": 3
   },
   "file_extension": ".py",
   "mimetype": "text/x-python",
   "name": "python",
   "nbconvert_exporter": "python",
   "pygments_lexer": "ipython3",
   "version": "3.11.2"
  }
 },
 "nbformat": 4,
 "nbformat_minor": 5
}
