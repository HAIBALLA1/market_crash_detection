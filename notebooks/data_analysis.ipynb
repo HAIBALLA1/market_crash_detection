{
 "cells": [
  {
   "cell_type": "markdown",
   "id": "7337ad44-cb30-46bd-b949-9ada8203238d",
   "metadata": {},
   "source": [
    "# Introduction"
   ]
  },
  {
   "cell_type": "markdown",
   "id": "731fd9cd-3de1-4417-a0e2-e29bdc82d7f1",
   "metadata": {},
   "source": [
    "### This notebook aims to detect anomalies in financial markets using the XGBoost model."
   ]
  },
  {
   "cell_type": "code",
   "execution_count": null,
   "id": "ea80c694-2b97-4cb0-8e72-6f3a7b57bdc4",
   "metadata": {},
   "outputs": [],
   "source": [
    "import pandas as pd\n",
    "import numpy as np\n",
    "import matplotlib.pyplot as plt\n",
    "from sklearn.metrics import roc_curve, auc\n",
    "from xgboost import XGBClassifier\n",
    "from sklearn.model_selection import train_test_split\n",
    "from sklearn.metrics import silhouette_score\n",
    "from sklearn.neighbors import LocalOutlierFactor\n",
    "from sklearn.metrics import classification_report, confusion_matrix\n",
    "from collections import Counter\n",
    "from sklearn.model_selection import GridSearchCV\n",
    "from sklearn.decomposition import PCA\n",
    "from sklearn.preprocessing import StandardScaler\n",
    "from sklearn.impute import SimpleImputer\n",
    "from flask import Flask, request, jsonify\n",
    "import threading\n",
    "import requests"
   ]
  },
  {
   "cell_type": "markdown",
   "id": "2260f04c-6e04-4976-a391-6e829d9e302e",
   "metadata": {},
   "source": [
    "# Data Cleaning"
   ]
  },
  {
   "cell_type": "code",
   "execution_count": null,
   "id": "b6639336-fd72-45e2-a0ba-ce4eb11a31e8",
   "metadata": {},
   "outputs": [],
   "source": [
    "dataset = pd.read_excel('../data/FinancialMarketData.xlsx', sheet_name='EWS' )\n",
    "\n",
    "# moving averages   \n",
    "dataset['VIX_moving_average'] = dataset['VIX'].rolling(window=7).mean()\n",
    "dataset['BDIY_moving_average'] = dataset['BDIY'].rolling(window=7).mean()\n",
    "dataset['CRY_moving_average'] = dataset['CRY'].rolling(window=7).mean()\n",
    "dataset['Cl1_moving_average'] = dataset['Cl1'].rolling(window=7).mean()\n",
    "dataset['USGG2YR_moving_average'] = dataset['USGG2YR'].rolling(window=7).mean()\n",
    "dataset['GT10_moving_average'] = dataset['GT10'].rolling(window=7).mean()\n",
    "dataset['DXY_moving_average'] = dataset['DXY'].rolling(window=7).mean()\n",
    "\n",
    "# Ratios\n",
    "dataset['DXY_to_VIX'] = dataset['DXY'] / dataset['VIX']\n",
    "\n",
    "# Differences\n",
    "dataset['VIX_diff'] = dataset['VIX'].diff()\n",
    "\n",
    "dataset['Year'] = dataset['Data'].dt.year\n",
    "dataset['Month'] = dataset['Data'].dt.month\n",
    "dataset['Day'] = dataset['Data'].dt.day\n",
    "dataset['DayOfWeek'] = dataset['Data'].dt.dayofweek\n",
    "\n",
    "#correlation\n",
    "correlation_matrix = dataset.corr()\n",
    "low_cor_cols=correlation_matrix['Y'][abs(correlation_matrix['Y'])<0.04].index\n",
    "\n",
    "#cleaning data\n",
    "dataset_cleaned=dataset.drop(columns=low_cor_cols)\n",
    "\n",
    "#droping Date Column\n",
    "dataset_cleaned = dataset_cleaned.drop(columns=['Data'])\n",
    "\n",
    "#dataset_cleaned.describe()\n"
   ]
  },
  {
   "cell_type": "markdown",
   "id": "0ffb2896-8ee3-4591-b899-26065f48de9c",
   "metadata": {},
   "source": [
    "# Data Preperation"
   ]
  },
  {
   "cell_type": "code",
   "execution_count": null,
   "id": "aab17815-d141-472d-b4c6-fb0328fd221d",
   "metadata": {},
   "outputs": [],
   "source": [
    "X= dataset_cleaned.drop(columns=['Y'])\n",
    "y=dataset_cleaned['Y']\n",
    "\n",
    "# Split the data\n",
    "X_train, X_test, y_train, y_test = train_test_split(X, y, test_size=0.2, random_state=42)\n"
   ]
  },
  {
   "cell_type": "markdown",
   "id": "b99d7d6e-9b30-4ccf-855c-48e94f6e106f",
   "metadata": {},
   "source": [
    "# Model Training"
   ]
  },
  {
   "cell_type": "markdown",
   "id": "2918be70-1283-417d-9668-cf41f0f2c9e5",
   "metadata": {},
   "source": [
    "## Handling Class Imbalance"
   ]
  },
  {
   "cell_type": "code",
   "execution_count": null,
   "id": "8bc7e2f7-6be7-4fd2-a0df-e2be3b0cae9f",
   "metadata": {},
   "outputs": [],
   "source": [
    "class_counts = Counter(y_train)\n",
    "negatives = class_counts[0]  # Normal class\n",
    "positives = class_counts[1]  # Anomaly class\n",
    "\n",
    "# Scale_pos_weight calcul\n",
    "scale_pos_weight = negatives / positives\n",
    "print(f\"Scale Pos Weight: {scale_pos_weight}\")\n"
   ]
  },
  {
   "cell_type": "markdown",
   "id": "ec2cdcf4-7844-4ef2-9c8b-d8582abf356e",
   "metadata": {},
   "source": [
    "## Training the XGBoost Classifier"
   ]
  },
  {
   "cell_type": "code",
   "execution_count": null,
   "id": "e8bb6f80-8434-4d8e-b6b8-e3b330beda03",
   "metadata": {},
   "outputs": [],
   "source": [
    "# Model inisialization\n",
    "model = XGBClassifier(\n",
    "    n_estimators=131, \n",
    "    learning_rate=0.3, \n",
    "    random_state=43, \n",
    "    scale_pos_weight=scale_pos_weight\n",
    ")\n",
    "\n",
    "model.fit(X_train, y_train)\n",
    "\n",
    "#  prediction model\n",
    "y_pred = model.predict(X_test)\n",
    "\n",
    "print(\"Classification Report :\")\n",
    "print(classification_report(y_test, y_pred))\n"
   ]
  },
  {
   "cell_type": "markdown",
   "id": "287ae475-de16-4eba-9cdd-056492fce57c",
   "metadata": {},
   "source": [
    "# Investment Strategy Implementation\n",
    "\n",
    "### In this section, we will define and implement a data-driven investment strategy based on the model's predictions.\n"
   ]
  },
  {
   "cell_type": "code",
   "execution_count": null,
   "id": "de57df4f-ccef-4738-bc24-3daa29cdf60e",
   "metadata": {},
   "outputs": [],
   "source": [
    "dataset_cleaned['Anomaly'] = model.predict_proba(X)[:, 1] >= 0.1  \n",
    "dataset_cleaned['price'] = dataset_cleaned['VIX']\n",
    "\n",
    "position = 0  # Initial position (no active trade)\n",
    "entry_price = None \n",
    "\n",
    "def define_strategy(row):\n",
    "    global entry_price, position  # Using global variables to maintain state\n",
    "\n",
    "    # Buy if conditions are met\n",
    "    if row['Anomaly'] and row['VIX'] < row['VIX_moving_average']:\n",
    "        if position == 0:  # Buy only if there is no active position\n",
    "            entry_price = row['price']\n",
    "            position = 1  # Active position\n",
    "            return 'Buy'\n",
    "    \n",
    "    # Sell if conditions are met\n",
    "    elif position > 0 and (row['price'] > entry_price * 1.1 or row['price'] < entry_price * 0.95):\n",
    "        position = 0  # Close the position\n",
    "        entry_price = None  # Reset entry price\n",
    "        return 'Sell'\n",
    "    \n",
    "    # Do not trade on weekends\n",
    "    elif row['DayOfWeek'] in [5, 6]:  # Assuming weekends are Saturday and Sunday\n",
    "        return 'Hold'\n",
    "\n",
    "    # Default action: hold\n",
    "    return 'Hold'\n",
    "\n",
    "# Application de la stratégie\n",
    "dataset_cleaned['Strategy'] = dataset_cleaned.apply(define_strategy, axis=1)\n"
   ]
  },
  {
   "cell_type": "markdown",
   "id": "6f3f522b-bd39-48bf-9040-e2393cd881fb",
   "metadata": {},
   "source": [
    "## Backtesting"
   ]
  },
  {
   "cell_type": "code",
   "execution_count": null,
   "id": "bbedf253-86b1-4efa-80a1-31cd91c29451",
   "metadata": {},
   "outputs": [],
   "source": [
    "# Initialization\n",
    "initial_portfolio = 100000  # Initial capital\n",
    "portfolio = initial_portfolio\n",
    "position = 0  # Current position (amount of asset held)\n",
    "entry_price = None  # Entry price for an active position\n",
    "cash = initial_portfolio  # Uninvested cash amount\n",
    "transaction_fee = 0.001  # Transaction fee (0.1% per transaction)\n",
    "\n",
    "portfolio_values = []  # List to store portfolio values at each step\n",
    "transactions = []  # List to log transactions\n",
    "\n",
    "# Strategy simulation\n",
    "for index, row in dataset_cleaned.iterrows():\n",
    "    # Buy if the strategy indicates 'Buy' and no active position\n",
    "    if row['Strategy'] == 'Buy' and position == 0:\n",
    "        entry_price = row['price'] * (1 + transaction_fee)  # Include buy transaction fee\n",
    "        position = cash / entry_price  # Calculate the amount bought\n",
    "        cash = 0  # All cash is invested\n",
    "        transactions.append(f\"Buy at {row['price']} (adjusted: {entry_price}) on index {index}\")\n",
    "    \n",
    "    # Sell if the strategy indicates 'Sell' and there is an active position\n",
    "    elif row['Strategy'] == 'Sell' and position > 0:\n",
    "        sell_price = row['price'] * (1 - transaction_fee)  # Include sell transaction fee\n",
    "        cash = position * sell_price  # Calculate cash gained\n",
    "        portfolio = cash  # Update portfolio value\n",
    "        position = 0  # Reset the position\n",
    "        transactions.append(f\"Sell at {row['price']} (adjusted: {sell_price}) on index {index}\")\n",
    "    \n",
    "    # Append the current portfolio value\n",
    "    current_portfolio_value = cash + (position * row['price'] if position > 0 else 0)\n",
    "    portfolio_values.append(current_portfolio_value)\n",
    "\n",
    "# Calculate total return\n",
    "total_return = (portfolio_values[-1] - initial_portfolio) / initial_portfolio * 100\n",
    "print(f\"Total Return: {total_return:.2f}%\")\n",
    "\n",
    "# Add the Portfolio_Value column to the dataset\n",
    "dataset_cleaned['Portfolio_Value'] = portfolio_values\n",
    "\n",
    "# Print the final portfolio value\n",
    "print(f\"Final Portfolio Value: {portfolio_values[-1]}\")\n",
    "\n",
    "# Print the transaction log\n",
    "print(\"\\nTransactions:\")\n",
    "for transaction in transactions:\n",
    "    print(transaction)\n",
    "\n",
    "\n"
   ]
  },
  {
   "cell_type": "markdown",
   "id": "e1f30ec7-c741-491a-9a4d-99434c1b90cd",
   "metadata": {},
   "source": [
    "##  Visualization Of The Portfolio"
   ]
  },
  {
   "cell_type": "code",
   "execution_count": null,
   "id": "b54fee76-97b1-4880-80cf-fb8a5fe4d5bb",
   "metadata": {},
   "outputs": [],
   "source": [
    "buy_points = dataset_cleaned[dataset_cleaned['Strategy'] == 'Buy'].index\n",
    "sell_points = dataset_cleaned[dataset_cleaned['Strategy'] == 'Sell'].index\n",
    "\n",
    "plt.figure(figsize=(20, 10))\n",
    "plt.plot(dataset_cleaned['Portfolio_Value'], label=\"Portfolio Value\")\n",
    "plt.scatter(buy_points, dataset_cleaned.loc[buy_points, 'Portfolio_Value'], color='green', label='Buy', marker='^')\n",
    "plt.scatter(sell_points, dataset_cleaned.loc[sell_points, 'Portfolio_Value'], color='red', label='Sell', marker='v')\n",
    "plt.title(\"Portfolio Evaluation with Transactions\")\n",
    "plt.legend()\n",
    "plt.show()"
   ]
  },
  {
   "cell_type": "code",
   "execution_count": null,
   "id": "55ef8443-0992-4e52-8f48-38e6e6afeac3",
   "metadata": {
    "scrolled": true
   },
   "outputs": [],
   "source": [
    "from flask import Flask, request, jsonify\n",
    "from threading import Thread\n",
    "\n",
    "app = Flask(__name__)\n",
    "\n",
    "@app.route('/chat', methods=['POST'])\n",
    "def chat():\n",
    "    user_message = request.json.get('message', '')\n",
    "    response = \"\"\n",
    "\n",
    "    if \"buy\" in user_message.lower():\n",
    "        response = \"The strategy suggests buying when VIX is below its moving average.\"\n",
    "    elif \"sell\" in user_message.lower():\n",
    "        response = \"The strategy suggests selling when the price is 10% above or 5% below the entry price.\"\n",
    "    else:\n",
    "        response = \"I'm here to help! Ask me about buying, selling, or anomalies.\"\n",
    "    \n",
    "    return jsonify({'response': response})\n",
    "\n",
    "@app.route('/')\n",
    "def index():\n",
    "    return '''\n",
    "        <!DOCTYPE html>\n",
    "        <html>\n",
    "        <head>\n",
    "          <title>Investment Strategy Chatbot</title>\n",
    "          <link href=\"https://cdnjs.cloudflare.com/ajax/libs/bootstrap/5.3.0-alpha3/css/bootstrap.min.css\" rel=\"stylesheet\">\n",
    "          <style>\n",
    "           body {\n",
    "              background-color: #f8f9fa;\n",
    "           }\n",
    "           .chat-container {\n",
    "               max-width: 600px;\n",
    "               margin: 50px auto;\n",
    "               padding: 20px;\n",
    "               background: white;\n",
    "               border-radius: 8px;\n",
    "               box-shadow: 0px 4px 8px rgba(0, 0, 0, 0.1);\n",
    "           }\n",
    "           .message {\n",
    "              margin: 10px 0;\n",
    "           }\n",
    "           .bot-message {\n",
    "              background: #d1e7dd;\n",
    "              padding: 10px;\n",
    "              border-radius: 8px;\n",
    "           }\n",
    "          .user-message {\n",
    "              background: #f8d7da;\n",
    "              padding: 10px;\n",
    "              border-radius: 8px;\n",
    "              text-align: right;\n",
    "          }\n",
    "          </style>\n",
    "        </head>\n",
    "\n",
    "    '''\n",
    "\n",
    "\n",
    "def run_flask():\n",
    "    app.run(debug=True, port=5000, use_reloader=False)\n",
    "\n",
    "# Lancer le serveur Flask dans un thread parallèle\n",
    "if __name__ == '__main__':\n",
    "    flask_thread = Thread(target=run_flask)\n",
    "    flask_thread.start()\n"
   ]
  },
  {
   "cell_type": "code",
   "execution_count": null,
   "id": "b58f9b32-fa71-4c05-8ed9-49a6f789d04d",
   "metadata": {},
   "outputs": [],
   "source": [
    "import requests\n",
    "\n",
    "user_input = \"What should I do about buying?\"\n",
    "response = requests.post(\"http://127.0.0.1:5000/chat\", json={\"message\": user_input})\n",
    "print(response.json())\n"
   ]
  }
 ],
 "metadata": {
  "kernelspec": {
   "display_name": "Python 3 (ipykernel)",
   "language": "python",
   "name": "python3"
  },
  "language_info": {
   "codemirror_mode": {
    "name": "ipython",
    "version": 3
   },
   "file_extension": ".py",
   "mimetype": "text/x-python",
   "name": "python",
   "nbconvert_exporter": "python",
   "pygments_lexer": "ipython3",
   "version": "3.11.2"
  }
 },
 "nbformat": 4,
 "nbformat_minor": 5
}
